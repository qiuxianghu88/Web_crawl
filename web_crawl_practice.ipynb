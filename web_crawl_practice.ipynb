{
 "cells": [
  {
   "cell_type": "code",
   "execution_count": 1,
   "metadata": {},
   "outputs": [],
   "source": [
    "# The task is to download all the songs which are broadcast more than five million times in the website below:\n",
    "# https://music.163.com/#/discover/playlist"
   ]
  },
  {
   "cell_type": "code",
   "execution_count": null,
   "metadata": {},
   "outputs": [],
   "source": [
    "## Install Selenium (pip install selenium)\n",
    "## Download ChromeDriver and put it into system PATH"
   ]
  },
  {
   "cell_type": "code",
   "execution_count": null,
   "metadata": {},
   "outputs": [],
   "source": [
    "## Open the first page of the playlist and open source code of HTML\n",
    "## then check where the songs name are and where the number of broadcast are\n",
    "## Because we need check all the pages, so we need find the URL of \"next page\" and \"last page\""
   ]
  },
  {
   "cell_type": "code",
   "execution_count": 2,
   "metadata": {},
   "outputs": [],
   "source": [
    "from selenium import webdriver\n",
    "import csv"
   ]
  },
  {
   "cell_type": "code",
   "execution_count": 3,
   "metadata": {},
   "outputs": [],
   "source": [
    "## first page to crawl\n",
    "url = 'https://music.163.com/#/discover/playlist/?order=hot&cat=%E5%85%A8%E9%83%A8&limit=35&offset=0'"
   ]
  },
  {
   "cell_type": "code",
   "execution_count": 5,
   "metadata": {},
   "outputs": [],
   "source": [
    "## using Chrome interface\n",
    "browser = webdriver.Chrome()"
   ]
  },
  {
   "cell_type": "code",
   "execution_count": 6,
   "metadata": {},
   "outputs": [
    {
     "data": {
      "text/plain": [
       "32"
      ]
     },
     "execution_count": 6,
     "metadata": {},
     "output_type": "execute_result"
    }
   ],
   "source": [
    "csv_file = open('music_playlist.csv','w')\n",
    "lists = csv.writer(csv_file)\n",
    "lists.writerow(['title', 'number_of_broadcast', 'link'])"
   ]
  },
  {
   "cell_type": "code",
   "execution_count": 8,
   "metadata": {},
   "outputs": [],
   "source": [
    "## end the task when return 'javascript:void(0)' (this is the last page)\n",
    "while url != 'javascript:void(0)':\n",
    "    browser.get(url)\n",
    "    browser.switch_to.frame(\"contentFrame\")\n",
    "    data = browser.find_element_by_id('m-pl-container').find_elements_by_tag_name('li')\n",
    "    for i in range(len(data)):\n",
    "        nb = data[i].find_element_by_class_name('nb').text\n",
    "        if '万' in nb and int(nb.split('万')[0]) > 500:\n",
    "            msk = data[i].find_element_by_css_selector('a.msk')\n",
    "            lists.writerow([msk.get_attribute('title'),nb,msk.get_attribute('href')])\n",
    "    url = browser.find_element_by_css_selector('a.zbtn.znxt').get_attribute('href')\n",
    "csv_file.close()\n",
    "\n",
    "browser.close()"
   ]
  },
  {
   "cell_type": "code",
   "execution_count": null,
   "metadata": {},
   "outputs": [],
   "source": []
  }
 ],
 "metadata": {
  "kernelspec": {
   "display_name": "Python 3",
   "language": "python",
   "name": "python3"
  },
  "language_info": {
   "codemirror_mode": {
    "name": "ipython",
    "version": 3
   },
   "file_extension": ".py",
   "mimetype": "text/x-python",
   "name": "python",
   "nbconvert_exporter": "python",
   "pygments_lexer": "ipython3",
   "version": "3.7.1"
  }
 },
 "nbformat": 4,
 "nbformat_minor": 2
}
